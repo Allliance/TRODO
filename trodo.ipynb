{
 "cells": [
  {
   "cell_type": "code",
   "execution_count": null,
   "id": "6fdded0b",
   "metadata": {
    "execution": {
     "iopub.execute_input": "2024-10-23T21:17:54.326441Z",
     "iopub.status.busy": "2024-10-23T21:17:54.326018Z",
     "iopub.status.idle": "2024-10-23T21:18:36.048810Z",
     "shell.execute_reply": "2024-10-23T21:18:36.047778Z"
    },
    "papermill": {
     "duration": 41.732906,
     "end_time": "2024-10-23T21:18:36.051391",
     "exception": false,
     "start_time": "2024-10-23T21:17:54.318485",
     "status": "completed"
    },
    "tags": []
   },
   "outputs": [],
   "source": [
    "import os\n",
    "if not os.path.exists(\"src\"):\n",
    "    !git clone https://github.com/Allliance/trodo\n",
    "    !cp -r trodo/src ./src\n",
    "\n",
    "from src import *"
   ]
  },
  {
   "cell_type": "code",
   "execution_count": null,
   "id": "e4db45c4",
   "metadata": {
    "_cell_guid": "b1076dfc-b9ad-4769-8c92-a6c4dae69d19",
    "_uuid": "8f2839f25d086af736a60e9eeb907d3b93b6e0e5",
    "execution": {
     "iopub.execute_input": "2024-10-23T21:18:36.069909Z",
     "iopub.status.busy": "2024-10-23T21:18:36.068518Z",
     "iopub.status.idle": "2024-10-23T21:18:36.206579Z",
     "shell.execute_reply": "2024-10-23T21:18:36.205450Z"
    },
    "papermill": {
     "duration": 0.149572,
     "end_time": "2024-10-23T21:18:36.209014",
     "exception": false,
     "start_time": "2024-10-23T21:18:36.059442",
     "status": "completed"
    },
    "tags": []
   },
   "outputs": [],
   "source": [
    "mapping = [\"a2o\", 'a2a'][0]\n",
    "attack_in = False\n",
    "adv = False\n",
    "DEBUG = True\n",
    "sample_num = 400\n",
    "EPS = 1/255\n",
    "\n",
    "source_dataset = ['cifar10', 'mnist', 'gtsrb', 'cifar100', 'pubfig'][2]\n",
    "out_dataset = ['cutpaste', 'distort', 'elastic', 'rot'][0]\n",
    "\n",
    "batch_size = 8 if source_dataset == 'pubfig' else 256\n",
    "\n",
    "init_eps_lb = 0/255\n",
    "\n",
    "if source_dataset == 'mnist':\n",
    "    init_eps_ub = 32/255\n",
    "else:\n",
    "    init_eps_ub = 4/255\n",
    "    \n",
    "init_eps_step = 1/255 if source_dataset == 'mnist' else 0.5/255\n",
    "sample_num = 500\n",
    "sample_k = 3\n",
    "\n",
    "arch = ['preact', 'resnet', 'vgg'][1]\n",
    "\n",
    "attack_norm = ['linf', 'l2'][0]\n",
    "\n",
    "if source_dataset in ['cifar10', 'cifar100'] and arch in ['vgg', 'preact', 'resnet']:\n",
    "    discards = ['inputaware']\n",
    "elif source_dataset == 'pubfig' and arch in ['preact']:\n",
    "    discards = ['inputaware']\n",
    "else:\n",
    "    discards = []\n",
    "\n",
    "    \n",
    "min_sanity_acc = 0.7\n",
    "\n",
    "device = torch.device('cuda:0' if torch.cuda.is_available() else 'cpu')\n",
    "print('Using device:', device)\n",
    "%load_ext autoreload\n",
    "%autoreload 2"
   ]
  },
  {
   "cell_type": "markdown",
   "id": "3571811d",
   "metadata": {
    "papermill": {
     "duration": 0.007035,
     "end_time": "2024-10-23T21:18:36.223738",
     "exception": false,
     "start_time": "2024-10-23T21:18:36.216703",
     "status": "completed"
    },
    "tags": []
   },
   "source": [
    "# Fetching code from repo"
   ]
  },
  {
   "cell_type": "code",
   "execution_count": 2,
   "id": "289f80dc",
   "metadata": {
    "execution": {
     "iopub.execute_input": "2024-10-23T21:18:36.239839Z",
     "iopub.status.busy": "2024-10-23T21:18:36.239494Z",
     "iopub.status.idle": "2024-10-23T21:18:36.351597Z",
     "shell.execute_reply": "2024-10-23T21:18:36.350743Z"
    },
    "papermill": {
     "duration": 0.123279,
     "end_time": "2024-10-23T21:18:36.353995",
     "exception": false,
     "start_time": "2024-10-23T21:18:36.230716",
     "status": "completed"
    },
    "tags": []
   },
   "outputs": [],
   "source": [
    "# Loading constants\n",
    "from BAD.constants import CLEAN_ROOT_DICT, BAD_ROOT_DICT, NORM_MEAN, NORM_STD\n",
    "from BAD.constants import num_classes as num_classes_dict\n",
    "\n",
    "# Loading Model architecture\n",
    "if arch == 'preact':\n",
    "    from BAD.models.loaders import load_preact as model_loader\n",
    "elif arch == 'resnet':\n",
    "    from BAD.models.loaders import load_resnet as model_loader\n",
    "else:\n",
    "    raise NotImplementedError(\"This architecture is not supported\")"
   ]
  },
  {
   "cell_type": "markdown",
   "id": "fb9676d3",
   "metadata": {
    "papermill": {
     "duration": 0.007468,
     "end_time": "2024-10-23T21:18:36.369438",
     "exception": false,
     "start_time": "2024-10-23T21:18:36.361970",
     "status": "completed"
    },
    "tags": []
   },
   "source": [
    "# Preparations"
   ]
  },
  {
   "cell_type": "markdown",
   "id": "3bbe9a6c",
   "metadata": {
    "papermill": {
     "duration": 0.006966,
     "end_time": "2024-10-23T21:18:36.384360",
     "exception": false,
     "start_time": "2024-10-23T21:18:36.377394",
     "status": "completed"
    },
    "tags": []
   },
   "source": [
    "## Loading Model"
   ]
  },
  {
   "cell_type": "code",
   "execution_count": null,
   "id": "31f3a96b",
   "metadata": {
    "execution": {
     "iopub.execute_input": "2024-10-23T21:18:36.403110Z",
     "iopub.status.busy": "2024-10-23T21:18:36.402726Z",
     "iopub.status.idle": "2024-10-23T21:18:36.576756Z",
     "shell.execute_reply": "2024-10-23T21:18:36.575347Z"
    },
    "papermill": {
     "duration": 0.186716,
     "end_time": "2024-10-23T21:18:36.579316",
     "exception": false,
     "start_time": "2024-10-23T21:18:36.392600",
     "status": "completed"
    },
    "tags": []
   },
   "outputs": [],
   "source": [
    "num_classes = num_classes_dict[source_dataset]\n",
    "\n",
    "final_model_loader = lambda x, meta_data: model_loader(x,\n",
    "                                                       num_classes=num_classes,\n",
    "                                                       mean=NORM_MEAN[source_dataset],\n",
    "                                                       std=NORM_STD[source_dataset],\n",
    "                                                       normalize=True,\n",
    "                                                       meta_data=meta_data)\n",
    "\n",
    "\n",
    "CLEAN_ROOT = CLEAN_ROOT_DICT[mapping][source_dataset][arch]\n",
    "BAD_ROOT = BAD_ROOT_DICT[mapping][source_dataset][arch]\n",
    "# CLEAN_ROOT = '/kaggle/input/cifar10-adv-resnet18-all-models/models/clean'\n",
    "# BAD_ROOT = '/kaggle/input/cifar10-adv-resnet18-all-models/models'\n",
    "\n",
    "def filter_dataset(source_dataset, to_remove_dataset):\n",
    "    filter_paths = [data['path'] for data in to_remove_dataset.data]\n",
    "    \n",
    "    def filter_data_part(data_part):\n",
    "        new_data = []\n",
    "        for data in data_part:\n",
    "            if data['path'] not in filter_paths:\n",
    "                new_data.append(data)\n",
    "        return new_data\n",
    "    \n",
    "    source_dataset.cleans_data = filter_data_part(source_dataset.cleans_data)\n",
    "    source_dataset.bads_data = filter_data_part(source_dataset.bads_data)\n",
    "    source_dataset.data = source_dataset.cleans_data + source_dataset.bads_data\n",
    "    random.shuffle(source_dataset.data)\n",
    "\n",
    "val_modelset = ModelDataset(CLEAN_ROOT, BAD_ROOT, final_model_loader, sample=True, sample_k=sample_k,  discards=discards, version='new')\n",
    "test_modelset = ModelDataset(CLEAN_ROOT, BAD_ROOT, final_model_loader, sample=False,  discards=discards, version='new')\n",
    "\n",
    "# filter_dataset(test_modelset, val_modelset)\n",
    "\n",
    "print(\"No. clean models in validation set:\", len(val_modelset.cleans_data))\n",
    "print(\"No. bad models in validation set:\", len(val_modelset.bads_data))\n",
    "\n",
    "print(\"No. clean models in test set:\", len(test_modelset.cleans_data))\n",
    "print(\"No. bad models in test set:\", len(test_modelset.bads_data))"
   ]
  },
  {
   "cell_type": "markdown",
   "id": "f33c8bcb",
   "metadata": {
    "papermill": {
     "duration": 0.008198,
     "end_time": "2024-10-23T21:18:36.595591",
     "exception": false,
     "start_time": "2024-10-23T21:18:36.587393",
     "status": "completed"
    },
    "tags": []
   },
   "source": [
    "## Sanity Checks"
   ]
  },
  {
   "cell_type": "code",
   "execution_count": 4,
   "id": "4f6f6b43",
   "metadata": {
    "execution": {
     "iopub.execute_input": "2024-10-23T21:18:36.613256Z",
     "iopub.status.busy": "2024-10-23T21:18:36.612468Z",
     "iopub.status.idle": "2024-10-23T21:18:37.137673Z",
     "shell.execute_reply": "2024-10-23T21:18:37.136722Z"
    },
    "papermill": {
     "duration": 0.536964,
     "end_time": "2024-10-23T21:18:37.140301",
     "exception": false,
     "start_time": "2024-10-23T21:18:36.603337",
     "status": "completed"
    },
    "tags": []
   },
   "outputs": [],
   "source": [
    "clear_memory()"
   ]
  },
  {
   "cell_type": "code",
   "execution_count": null,
   "id": "4252be42",
   "metadata": {
    "execution": {
     "iopub.execute_input": "2024-10-23T21:18:37.159186Z",
     "iopub.status.busy": "2024-10-23T21:18:37.158250Z",
     "iopub.status.idle": "2024-10-23T21:19:41.311795Z",
     "shell.execute_reply": "2024-10-23T21:19:41.310130Z"
    },
    "papermill": {
     "duration": 64.165376,
     "end_time": "2024-10-23T21:19:41.314074",
     "exception": false,
     "start_time": "2024-10-23T21:18:37.148698",
     "status": "completed"
    },
    "tags": []
   },
   "outputs": [],
   "source": [
    "sanity_testloader = get_cls_loader(source_dataset, train=True, sample_portion=0.05, batch_size=batch_size)\n",
    "\n",
    "print(len(sanity_testloader.dataset))\n",
    "\n",
    "sample_clean_model = test_modelset.get_random_clean_model()\n",
    "acc = evaluate(sample_clean_model, sanity_testloader, device, metric='acc', attack=None, progress=True)\n",
    "if acc < min_sanity_acc:\n",
    "#     raise ValueError(\"The clean model is not working well. Accuracy:\", acc)\n",
    "    print(\"The clean model is not working well. Accuracy:\", acc)\n",
    "        \n",
    "print(\"Some clean model acc on trainset:\", acc)\n",
    "\n",
    "for attack in ['badnet', 'sig', 'bpp', 'blended', 'inputaware', 'wanet']:\n",
    "    if attack in discards:\n",
    "        continue\n",
    "    print('attack:', attack)\n",
    "    try:\n",
    "        sample_bad_model = test_modelset.get_random_bad_model(attack)\n",
    "    except Exception as e:\n",
    "        print(attack, \"skipped\")\n",
    "    \n",
    "    acc = evaluate(sample_bad_model, sanity_testloader, device, metric='acc', attack=None, progress=True)\n",
    "    print(\"Some bad model acc on trainset:\", acc)\n",
    "    if acc < min_sanity_acc:\n",
    "        continue\n",
    "#         raise ValueError(f\"The {attack} model is not working well. auc:\", acc)"
   ]
  },
  {
   "cell_type": "markdown",
   "id": "1aebb6aa",
   "metadata": {
    "papermill": {
     "duration": 0.014942,
     "end_time": "2024-10-23T21:19:41.343754",
     "exception": false,
     "start_time": "2024-10-23T21:19:41.328812",
     "status": "completed"
    },
    "tags": []
   },
   "source": [
    "# Experiments"
   ]
  },
  {
   "cell_type": "markdown",
   "id": "fd2d22cc",
   "metadata": {
    "papermill": {
     "duration": 0.014239,
     "end_time": "2024-10-23T21:19:41.372999",
     "exception": false,
     "start_time": "2024-10-23T21:19:41.358760",
     "status": "completed"
    },
    "tags": []
   },
   "source": [
    "## Validation"
   ]
  },
  {
   "cell_type": "code",
   "execution_count": null,
   "id": "dc95d26c",
   "metadata": {
    "execution": {
     "iopub.execute_input": "2024-10-23T21:19:41.404251Z",
     "iopub.status.busy": "2024-10-23T21:19:41.403346Z",
     "iopub.status.idle": "2024-10-23T21:19:41.945450Z",
     "shell.execute_reply": "2024-10-23T21:19:41.944265Z"
    },
    "papermill": {
     "duration": 0.560334,
     "end_time": "2024-10-23T21:19:41.947841",
     "exception": false,
     "start_time": "2024-10-23T21:19:41.387507",
     "status": "completed"
    },
    "tags": []
   },
   "outputs": [],
   "source": [
    "from BAD.data.loaders import get_ood_loader\n",
    "from BAD.visualization import visualize_samples\n",
    "\n",
    "def get_dataloader():\n",
    "    dataloader = get_ood_loader(in_dataset=source_dataset,\n",
    "                                out_dataset=out_dataset,\n",
    "                                sample_num=sample_num,\n",
    "                                sample=True,\n",
    "                                only_ood=True,\n",
    "                                batch_size=batch_size)\n",
    "    # print(\"Size of dataset:\", len(dataloader.dataset))\n",
    "    return dataloader\n",
    "\n",
    "dataloader = get_dataloader()\n",
    "print(len(dataloader.dataset))\n",
    "# visualize_samples(dataloader, 10)"
   ]
  },
  {
   "cell_type": "code",
   "execution_count": 7,
   "id": "105bbd34",
   "metadata": {
    "execution": {
     "iopub.execute_input": "2024-10-23T21:19:41.980030Z",
     "iopub.status.busy": "2024-10-23T21:19:41.979628Z",
     "iopub.status.idle": "2024-10-23T21:19:42.095290Z",
     "shell.execute_reply": "2024-10-23T21:19:42.093816Z"
    },
    "papermill": {
     "duration": 0.135013,
     "end_time": "2024-10-23T21:19:42.098033",
     "exception": false,
     "start_time": "2024-10-23T21:19:41.963020",
     "status": "completed"
    },
    "tags": []
   },
   "outputs": [],
   "source": [
    "from BAD.validate import get_models_scores\n",
    "from BAD.scores.msp import get_msp\n",
    "\n",
    "def mean_id_score_diff(model, dataloader, attack, progress=False):\n",
    "    before_attack_scores = []\n",
    "    after_attack_scores = []\n",
    "    \n",
    "    for data, targets in dataloader:\n",
    "        data = data.to(device)\n",
    "        \n",
    "        before_attack = get_msp(model, data)\n",
    "        \n",
    "        data = attack(data, targets)\n",
    "        \n",
    "        after_attack = get_msp(model, data)\n",
    "        \n",
    "        before_attack_scores += before_attack.detach().cpu().numpy().tolist()\n",
    "        after_attack_scores += after_attack.detach().cpu().numpy().tolist()\n",
    "        \n",
    "        torch.cuda.empty_cache()\n",
    "        gc.collect()\n",
    "        \n",
    "    before_attack_scores = np.asarray(before_attack_scores)\n",
    "    after_attack_scores = np.asarray(after_attack_scores)\n",
    "\n",
    "    # print(\"Mean ID Score before attack:\", np.mean(before_attack_scores))\n",
    "    # print(\"Mean ID Score After attack:\", np.mean(after_attack_scores))\n",
    "    \n",
    "    \n",
    "    return 1 - (np.mean(after_attack_scores) - np.mean(before_attack_scores))\n",
    "\n",
    "def get_scores(model_dataset, eps, progress=False):\n",
    "    attack_eps = eps\n",
    "    attack_steps = 10\n",
    "    attack_alpha = 2.5 * attack_eps / attack_steps\n",
    "    \n",
    "    def score_function(model, progress=progress):\n",
    "        dataloader = get_dataloader()\n",
    "        attack = Attack(model, eps=attack_eps, steps=attack_steps, alpha=attack_alpha, attack_in=attack_in)\n",
    "        \n",
    "        if eps == 0:\n",
    "            attack = None\n",
    "        \n",
    "        return mean_id_score_diff(model, dataloader, attack, progress=progress)\n",
    "\n",
    "    return get_models_scores(model_dataset, score_function, progress=progress, live=True, strict=True)"
   ]
  },
  {
   "cell_type": "code",
   "execution_count": null,
   "id": "8e8f4de4",
   "metadata": {
    "execution": {
     "iopub.execute_input": "2024-10-23T21:19:42.130051Z",
     "iopub.status.busy": "2024-10-23T21:19:42.129697Z",
     "iopub.status.idle": "2024-10-23T21:19:42.238815Z",
     "shell.execute_reply": "2024-10-23T21:19:42.237591Z"
    },
    "papermill": {
     "duration": 0.127665,
     "end_time": "2024-10-23T21:19:42.241162",
     "exception": false,
     "start_time": "2024-10-23T21:19:42.113497",
     "status": "completed"
    },
    "tags": []
   },
   "outputs": [],
   "source": [
    "from BAD.validate import find_best_eps, get_auc_on_models_scores\n",
    "from BAD.score_functions import get_auc, get_l2\n",
    "\n",
    "def validation_function(eps, progress=False):\n",
    "    scores, labels = get_aucs(val_modelset, eps)\n",
    "    return roc_auc_score(labels, scores)\n",
    "\n",
    "if EPS == None:\n",
    "    best_eps = find_best_eps(init_eps_lb, init_eps_ub, init_eps_step, validation_function, max_error=1e-3, partition=10, progress=True, verbose=True)\n",
    "else:\n",
    "    best_eps = EPS\n",
    "print(\"Best epsilon is:\", best_eps * 255)"
   ]
  },
  {
   "cell_type": "code",
   "execution_count": 9,
   "id": "7f201ded",
   "metadata": {
    "execution": {
     "iopub.execute_input": "2024-10-23T21:19:42.273365Z",
     "iopub.status.busy": "2024-10-23T21:19:42.272984Z",
     "iopub.status.idle": "2024-10-23T21:19:42.379941Z",
     "shell.execute_reply": "2024-10-23T21:19:42.378988Z"
    },
    "papermill": {
     "duration": 0.125837,
     "end_time": "2024-10-23T21:19:42.382191",
     "exception": false,
     "start_time": "2024-10-23T21:19:42.256354",
     "status": "completed"
    },
    "tags": []
   },
   "outputs": [],
   "source": [
    "from tqdm import tqdm\n",
    "from BAD.utils import get_best_acc_and_thresh\n",
    "from BAD.score_functions import get_auc\n",
    "\n",
    "def get_auc_on_auc_valset(eps, progress=False):\n",
    "    aucs, labels = get_aucs(val_modelset, eps, progress=progress)\n",
    "    \n",
    "    auc = roc_auc_score(labels, aucs)\n",
    "    acc, thresh = get_best_acc_and_thresh(labels, aucs)\n",
    "    \n",
    "    return auc, acc, thresh\n",
    "\n",
    "# val_auc, val_acc, val_thresh = get_auc_on_auc_valset(best_eps, progress=True)\n",
    "# val_auc, val_acc, val_thresh"
   ]
  },
  {
   "cell_type": "markdown",
   "id": "f55738f4",
   "metadata": {
    "papermill": {
     "duration": 0.014358,
     "end_time": "2024-10-23T21:19:42.411456",
     "exception": false,
     "start_time": "2024-10-23T21:19:42.397098",
     "status": "completed"
    },
    "tags": []
   },
   "source": [
    "# Testing"
   ]
  },
  {
   "cell_type": "code",
   "execution_count": null,
   "id": "13b416a1",
   "metadata": {
    "execution": {
     "iopub.execute_input": "2024-10-23T21:19:42.443004Z",
     "iopub.status.busy": "2024-10-23T21:19:42.442635Z",
     "iopub.status.idle": "2024-10-23T22:06:43.025491Z",
     "shell.execute_reply": "2024-10-23T22:06:43.024406Z"
    },
    "papermill": {
     "duration": 2820.601439,
     "end_time": "2024-10-23T22:06:43.027684",
     "exception": false,
     "start_time": "2024-10-23T21:19:42.426245",
     "status": "completed"
    },
    "tags": []
   },
   "outputs": [],
   "source": [
    "from BAD.validate import find_best_eps, get_auc_on_models_scores\n",
    "from BAD.score_functions import get_auc, get_l2\n",
    "\n",
    "total_runs = 5\n",
    "results = []\n",
    "for _ in range(total_runs):\n",
    "    scores, labels = get_scores(test_modelset, best_eps, progress=False)\n",
    "    # preds = [0 if score < val_thresh else 1 for score in scores]\n",
    "    # print(\"Final Accuracy on test set:\", accuracy_score(labels, preds))\n",
    "    results.append(roc_auc_score(labels, scores))\n",
    "    print(\"A run finished:\", results[-1])\n",
    "\n",
    "print(\"Final AUROC on test set:\", sum(results) / len(results))"
   ]
  }
 ],
 "metadata": {
  "kaggle": {
   "accelerator": "gpu",
   "dataSources": [
    {
     "datasetId": 332773,
     "sourceId": 663577,
     "sourceType": "datasetVersion"
    },
    {
     "datasetId": 4797814,
     "sourceId": 8119893,
     "sourceType": "datasetVersion"
    },
    {
     "datasetId": 4797852,
     "sourceId": 8120006,
     "sourceType": "datasetVersion"
    },
    {
     "datasetId": 4800567,
     "sourceId": 8123706,
     "sourceType": "datasetVersion"
    },
    {
     "datasetId": 4800673,
     "sourceId": 8123854,
     "sourceType": "datasetVersion"
    },
    {
     "datasetId": 4823140,
     "sourceId": 8154191,
     "sourceType": "datasetVersion"
    },
    {
     "datasetId": 4823145,
     "sourceId": 8154198,
     "sourceType": "datasetVersion"
    },
    {
     "datasetId": 4833618,
     "sourceId": 8168086,
     "sourceType": "datasetVersion"
    },
    {
     "datasetId": 4834093,
     "sourceId": 8168758,
     "sourceType": "datasetVersion"
    },
    {
     "datasetId": 4830679,
     "sourceId": 8177794,
     "sourceType": "datasetVersion"
    },
    {
     "datasetId": 4848859,
     "sourceId": 8188432,
     "sourceType": "datasetVersion"
    },
    {
     "datasetId": 4849194,
     "sourceId": 8188895,
     "sourceType": "datasetVersion"
    },
    {
     "datasetId": 4853671,
     "sourceId": 8194690,
     "sourceType": "datasetVersion"
    },
    {
     "datasetId": 4854324,
     "sourceId": 8195527,
     "sourceType": "datasetVersion"
    },
    {
     "datasetId": 4919490,
     "sourceId": 8283110,
     "sourceType": "datasetVersion"
    },
    {
     "datasetId": 4943087,
     "sourceId": 8321502,
     "sourceType": "datasetVersion"
    },
    {
     "datasetId": 4973041,
     "sourceId": 8366232,
     "sourceType": "datasetVersion"
    },
    {
     "datasetId": 5046591,
     "sourceId": 8464974,
     "sourceType": "datasetVersion"
    },
    {
     "datasetId": 5047204,
     "sourceId": 8478675,
     "sourceType": "datasetVersion"
    }
   ],
   "dockerImageVersionId": 30683,
   "isGpuEnabled": true,
   "isInternetEnabled": true,
   "language": "python",
   "sourceType": "notebook"
  },
  "kernelspec": {
   "display_name": "Python 3",
   "language": "python",
   "name": "python3"
  },
  "language_info": {
   "codemirror_mode": {
    "name": "ipython",
    "version": 3
   },
   "file_extension": ".py",
   "mimetype": "text/x-python",
   "name": "python",
   "nbconvert_exporter": "python",
   "pygments_lexer": "ipython3",
   "version": "3.10.13"
  },
  "papermill": {
   "default_parameters": {},
   "duration": 2934.856735,
   "end_time": "2024-10-23T22:06:46.103515",
   "environment_variables": {},
   "exception": null,
   "input_path": "__notebook__.ipynb",
   "output_path": "__notebook__.ipynb",
   "parameters": {},
   "start_time": "2024-10-23T21:17:51.246780",
   "version": "2.5.0"
  }
 },
 "nbformat": 4,
 "nbformat_minor": 5
}
